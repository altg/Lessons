{
 "cells": [
  {
   "cell_type": "markdown",
   "metadata": {},
   "source": [
    "# Python Revision 1\n",
    "\n",
    "Checking the use of the `print` function and the use of variables"
   ]
  },
  {
   "cell_type": "markdown",
   "metadata": {},
   "source": [
    "## Test1\n",
    "\n",
    "Use of `print` function.\n",
    "\n",
    "Write a python code in the box below which prints the message \"Hello World this is Zayd !\". Click the run button to execute the code."
   ]
  },
  {
   "cell_type": "code",
   "execution_count": null,
   "metadata": {},
   "outputs": [],
   "source": [
    "# Type the code here\n"
   ]
  },
  {
   "cell_type": "markdown",
   "metadata": {},
   "source": [
    "Store the statement \"And Ayanah !\" in a variable called `name`\n",
    "\n",
    "The change the above code to add what is in `name` to it."
   ]
  },
  {
   "cell_type": "code",
   "execution_count": null,
   "metadata": {},
   "outputs": [],
   "source": [
    "# Type the code here"
   ]
  },
  {
   "cell_type": "markdown",
   "metadata": {},
   "source": [
    "Use the calculate the following and use the `print` function to output. \n",
    "\n",
    "The output should look like:\n",
    "\n",
    "`1 + 1 = 2`\n",
    "\n",
    "1. $23 + 89$\n",
    "2. $78 \\times 93$\n",
    "3. $789 \\div 65$\n",
    "4. $56^4$\n",
    "5. $67 \\times (92^3) \\div 8$"
   ]
  },
  {
   "cell_type": "code",
   "execution_count": null,
   "metadata": {},
   "outputs": [],
   "source": [
    "# Type code here"
   ]
  },
  {
   "cell_type": "markdown",
   "metadata": {},
   "source": [
    "## Test 2\n",
    "\n",
    "Use of variables for doing arithmetic.\n",
    "\n",
    "1. Create 3 variables `x`,`y`,`z` and assign the following values to them $1$, $25.34$ , 'Hello There'\n",
    "\n",
    "2. Then print the values of the variables using `print`\n",
    "\n",
    "3. What are the types of the variables? Hint: use the `type` function.\n",
    "\n",
    "4. Are the type of variables `x` and `y` the same? Hint: use the `==` to compare 2 things"
   ]
  },
  {
   "cell_type": "code",
   "execution_count": null,
   "metadata": {},
   "outputs": [],
   "source": [
    "# Type code here\n"
   ]
  },
  {
   "cell_type": "markdown",
   "metadata": {},
   "source": [
    "Variable arithmetic.\n",
    "\n",
    "Do solve the following arithmetic using variables, and print the output.\n",
    "\n",
    "1. $x=25, y = 6, z = x \\times y$\n",
    "2. $x=56, y = 34, z = x \\div y$\n",
    "3. $x=1125, y = 456, z = x - y, p = z + y$\n",
    "4. $x=789, y = 5, z = x^y , p = z \\div x, q = 7p$\n",
    "5. $x=25, y = 2x^3+4x^2 + 9x + 10$\n"
   ]
  },
  {
   "cell_type": "code",
   "execution_count": null,
   "metadata": {},
   "outputs": [],
   "source": [
    "# Type code here"
   ]
  }
 ],
 "metadata": {
  "kernelspec": {
   "display_name": "Python 3",
   "language": "python",
   "name": "python3"
  },
  "language_info": {
   "codemirror_mode": {
    "name": "ipython",
    "version": 3
   },
   "file_extension": ".py",
   "mimetype": "text/x-python",
   "name": "python",
   "nbconvert_exporter": "python",
   "pygments_lexer": "ipython3",
   "version": "3.9.6"
  }
 },
 "nbformat": 4,
 "nbformat_minor": 2
}
